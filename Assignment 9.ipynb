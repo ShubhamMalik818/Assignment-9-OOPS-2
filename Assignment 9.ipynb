{
 "cells": [
  {
   "cell_type": "code",
   "execution_count": null,
   "id": "d43d49ae-b3ac-49cd-8601-6825b206108a",
   "metadata": {},
   "outputs": [],
   "source": [
    "1. What is Abstraction in OOps? Explain with an example."
   ]
  },
  {
   "cell_type": "code",
   "execution_count": null,
   "id": "ca3c7968-1b64-4681-81bd-721e878c2c05",
   "metadata": {},
   "outputs": [],
   "source": [
    "ANS- Abstraction is the process of hiding the internal details of an application from the outer world. \n",
    "     Abstraction is used to describe things in simple terms. It’s used to create a boundary between the application and the client programs\n",
    "\n",
    "    There are two types of abstraction.\n",
    "\n",
    "    1.Data Abstraction: \n",
    "      \n",
    "    When the object data is not visible to the outer world, it creates data abstraction. If needed, \n",
    "    access to the Objects’ data is provided through some methods.\n",
    "    \n",
    "    \n",
    "    2.Process Abstraction:\n",
    "       \n",
    "    We don’t need to provide details about all the functions of an object. \n",
    "    When we hide the internal implementation of the different functions involved in a user operation, it creates process abstraction."
   ]
  },
  {
   "cell_type": "code",
   "execution_count": null,
   "id": "db1fcd27-1a45-4fa5-9ad4-76176a4db5fa",
   "metadata": {},
   "outputs": [],
   "source": [
    "2. Differentiate between Abstraction and Encapsulation. Explain with an example."
   ]
  },
  {
   "cell_type": "code",
   "execution_count": null,
   "id": "d1755ae1-97d6-40af-a233-8fb248dd4a89",
   "metadata": {},
   "outputs": [],
   "source": [
    "ANS- Abstraction is the process of hiding the internal details of an application from the outer world. \n",
    "     Abstraction is used to describe things in simple terms. It’s used to create a boundary between the application and the client programs\n",
    "\n",
    "     Encapsulation in Python describes the concept of bundling data and methods within a single unit. \n",
    "    So, for example, when you create a class, it means you are implementing encapsulation. \n",
    "    A class is an example of encapsulation as it binds all the data members (instance variables) and methods into a single unit."
   ]
  },
  {
   "cell_type": "code",
   "execution_count": null,
   "id": "892d8cf8-6eb6-4b38-893b-9cd4c22f9679",
   "metadata": {},
   "outputs": [],
   "source": [
    "#Example of Abstraction and Encapsulation\n",
    "\n",
    "class Person:\n",
    "    def __init__(self):\n",
    "        self.name = \"Jack Matte\"\n",
    "\n",
    "    def bio(self):\n",
    "        self.addr = \"Bakers street, London\"\n",
    "        self.taxInfo = \"HUAPK29971\"\n",
    "        self.contact = \"01-777-523-342\"\n",
    "        print(self.addr, self.taxInfo, self.contact)\n",
    "\n",
    "    def interest(self):\n",
    "        self.favFood = \"Chinese\"\n",
    "        self.hobbies = \"Python Programming\"\n",
    "        self.bloodGroup = \"A+\"\n",
    "        print(self.favFood, self.hobbies, self.bloodGroup)\n",
    "\n",
    "obj = Person()\n",
    "print(obj.name)\n",
    "obj.bio()\n",
    "obj.interest()\n",
    "\n",
    "'''Here in this program, the encapsulation we achieved by storing the code of each module at a specific place i.e different methods.\n",
    "The abstraction we achieved by dividing the complete information or data into category i.e. [ bio() and interest() ] so that it can be reused.'''"
   ]
  },
  {
   "cell_type": "code",
   "execution_count": null,
   "id": "61873914-4f58-40fe-8043-7faf0649f4b1",
   "metadata": {},
   "outputs": [],
   "source": [
    "3. What is abc module in python? Why is it used?"
   ]
  },
  {
   "cell_type": "code",
   "execution_count": null,
   "id": "abaeb6a7-fcf4-4373-99f6-2a6dd56519a0",
   "metadata": {},
   "outputs": [],
   "source": [
    "ANS- An Abstract class is one of important concept in object oriented programming(oops). It is like blueprint for other classes.\n",
    "\n",
    "Why we use abstract?\n",
    "\n",
    "For larger projects, it is impossible to remember the class details, and also the reusability of code can increase the bug. \n",
    "Therefore, it plays a crucial role in our projects.\n",
    "\n",
    "By default, Python does not provide abstract classes. The ‘abc’ module in the Python library provides the infrastructure for \n",
    "defining custom abstract base classes.\n",
    "\n",
    "Abstract class cannot be instantiated in python. An Abstract method can be call by its subclasses."
   ]
  },
  {
   "cell_type": "code",
   "execution_count": null,
   "id": "0352d48a-c9bf-4838-948f-5d309377b058",
   "metadata": {},
   "outputs": [],
   "source": [
    "4. How can we achieve data abstraction?"
   ]
  },
  {
   "cell_type": "code",
   "execution_count": null,
   "id": "8286cdd8-5f73-416a-bd60-77123233f6dc",
   "metadata": {},
   "outputs": [],
   "source": [
    "ANS- Data Abstraction in Python can be achieved through creating abstract classes and inheriting them later. \n",
    "     Before discussing what abstract classes are, let us have a brief introduction of inheritance.\n",
    "\n",
    "Inheritance in OOP is a way through which one class inherits the attributes and methods of another class. \n",
    "The class whose properties and methods are inherited is known as the Parent class. \n",
    "And the class that inherits the properties from the parent class is the Child class/subclass.\n",
    "\n",
    "Abstract Class: The classes that cannot be instantiated. This means that we cannot create objects of an abstract class and \n",
    "these are only meant to be inherited. Then an object of the derived class is used to access the features of the base class. \n",
    "These are specifically defined to lay a foundation of other classes that exhibit common behavior or characteristics."
   ]
  },
  {
   "cell_type": "code",
   "execution_count": null,
   "id": "7a2de149-4195-4e79-9042-c9bbf9023130",
   "metadata": {},
   "outputs": [],
   "source": [
    "Q5. Can we create an instance of an abstract class? Explain your answer."
   ]
  },
  {
   "cell_type": "code",
   "execution_count": null,
   "id": "573d29f0-1363-49b6-8776-5add388403d4",
   "metadata": {},
   "outputs": [],
   "source": []
  },
  {
   "cell_type": "code",
   "execution_count": null,
   "id": "7132567f-0dd5-4f13-9781-af2123e9a4e5",
   "metadata": {},
   "outputs": [],
   "source": []
  }
 ],
 "metadata": {
  "kernelspec": {
   "display_name": "Python 3 (ipykernel)",
   "language": "python",
   "name": "python3"
  },
  "language_info": {
   "codemirror_mode": {
    "name": "ipython",
    "version": 3
   },
   "file_extension": ".py",
   "mimetype": "text/x-python",
   "name": "python",
   "nbconvert_exporter": "python",
   "pygments_lexer": "ipython3",
   "version": "3.10.8"
  }
 },
 "nbformat": 4,
 "nbformat_minor": 5
}
